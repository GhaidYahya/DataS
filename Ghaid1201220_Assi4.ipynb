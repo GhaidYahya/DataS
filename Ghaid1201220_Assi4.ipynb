{
  "nbformat": 4,
  "nbformat_minor": 0,
  "metadata": {
    "colab": {
      "provenance": []
    },
    "kernelspec": {
      "name": "python3",
      "display_name": "Python 3"
    },
    "language_info": {
      "name": "python"
    }
  },
  "cells": [
    {
      "cell_type": "markdown",
      "source": [
        "# 🤍**Ghaid Yahya** ***1201220 - Assi No.4***🤍\n",
        "---"
      ],
      "metadata": {
        "id": "UCEViFhxB62e"
      }
    },
    {
      "cell_type": "markdown",
      "source": [
        "# 🌸 **[The Dataset Description](https://www.kaggle.com/datasets/thespacefreak/taylor-swift-spotify-data?resource=download)**\n",
        "\n",
        "\n",
        "\n",
        "*The dataset I chose is called \"Taylor Swift Spotify Data\", it contains information about various songs by the  American artist Taylor Swift. It includes attributes such as the song's name, album, artist, release date, length, popularity, danceability, acousticness, energy, instrumentalness, liveness, loudness, speechiness, valence and tempo.*"
      ],
      "metadata": {
        "id": "njteHKvQD39N"
      }
    },
    {
      "cell_type": "markdown",
      "source": [
        "# 🌸**The Dictionary Of Columns**\n",
        "|**Column Name**        | **Data Type** | **Description**                                       |\n",
        "|--------------------|-----------|---------------------------------------------------|\n",
        "| name               | String    | Name of the song                                  |\n",
        "| album              | String    | Name of the album the song belongs to             |\n",
        "| artist             | String    | Name of the artist                                |\n",
        "| release_date       | String    | Date when the song was released (YYYY-MM-DD)      |\n",
        "| length             | Integer   | Length of the song in milliseconds                |\n",
        "| popularity         | Integer   | Popularity score of the song                      |\n",
        "| danceability       | Float     | Danceability score of the song (0.0 to 1.0)       |\n",
        "| acousticness       | Float     | Acousticness score of the song (0.0 to 1.0)       |\n",
        "| energy             | Float     | Energy score of the song (0.0 to 1.0)             |\n",
        "| instrumentalness   | Float     | Instrumentalness score of the song (0.0 to 1.0)   |\n",
        "| liveness           | Float     | Liveness score of the song (0.0 to 1.0)           |\n",
        "| loudness           | Float     | Loudness of the song in dB                         |\n",
        "| speechiness        | Float     | Speechiness score of the song (0.0 to 1.0)        |\n",
        "| valence            | Float     | Valence score of the song (0.0 to 1.0)            |\n",
        "| tempo              | Float     | Tempo of the song in BPM                           |"
      ],
      "metadata": {
        "id": "vNjuwdm1GMZX"
      }
    },
    {
      "cell_type": "markdown",
      "source": [
        "\n",
        "\n",
        "---\n",
        "\n",
        "\n",
        "# **THE CODE 🖥️**\n"
      ],
      "metadata": {
        "id": "aWtQpvdecbzE"
      }
    },
    {
      "cell_type": "markdown",
      "source": [
        "Importing the libraries"
      ],
      "metadata": {
        "id": "FxRy4uDLa0ZZ"
      }
    },
    {
      "cell_type": "code",
      "source": [
        "import pandas as pd\n",
        "import seaborn as sns\n",
        "import matplotlib.pyplot as plt"
      ],
      "metadata": {
        "id": "m6-bjlqWada1"
      },
      "execution_count": 199,
      "outputs": []
    },
    {
      "cell_type": "markdown",
      "source": [
        "Reading the data from a .cvs file"
      ],
      "metadata": {
        "id": "TOzE44ZUbkll"
      }
    },
    {
      "cell_type": "code",
      "source": [
        "myFile = \"DataSet/spotify_taylorswift.csv\"\n",
        "df = pd.read_csv(myFile)"
      ],
      "metadata": {
        "id": "3NNs4A_CJCMh"
      },
      "execution_count": 200,
      "outputs": []
    },
    {
      "cell_type": "markdown",
      "source": [
        "**1. What is the shape of the data?**\n",
        "To get the shape of the data we use df.shape as follows:"
      ],
      "metadata": {
        "id": "VKlyaZXOb7X0"
      }
    },
    {
      "cell_type": "code",
      "source": [
        "shape = df.shape\n",
        "print(\"The Shape Of The Data Is:\", shape)"
      ],
      "metadata": {
        "colab": {
          "base_uri": "https://localhost:8080/"
        },
        "id": "bO5xdlKQb5Uy",
        "outputId": "20ffa0c4-3247-4ba1-fa30-caf0f69a35b6"
      },
      "execution_count": 201,
      "outputs": [
        {
          "output_type": "stream",
          "name": "stdout",
          "text": [
            "The Shape Of The Data Is: (171, 16)\n"
          ]
        }
      ]
    },
    {
      "cell_type": "markdown",
      "source": [
        "**2. Does it contain missing values?**"
      ],
      "metadata": {
        "id": "OGD7iQFteoYK"
      }
    },
    {
      "cell_type": "code",
      "source": [
        "MissValues = df.isnull().sum()\n",
        "\n",
        "# if the sum of the missing values is 0 then we dont have any missing values\n",
        "if MissValues.sum() == 0:\n",
        "    print(\"There is NO missing values :)\")\n",
        "\n",
        "  # otherwise we do have\n",
        "else:\n",
        "    print(\"There IS missing values :(\")\n",
        "\n",
        "    # if there is missing values print them\n",
        "    print(\"The Number Of Missing Values In Each Column Is :\")\n",
        "    print(MissValues)"
      ],
      "metadata": {
        "colab": {
          "base_uri": "https://localhost:8080/"
        },
        "id": "zloRHcdydvth",
        "outputId": "88c894d8-94a5-471a-db51-d9135b8dfeec"
      },
      "execution_count": 202,
      "outputs": [
        {
          "output_type": "stream",
          "name": "stdout",
          "text": [
            "There is NO missing values :)\n"
          ]
        }
      ]
    },
    {
      "cell_type": "markdown",
      "source": [
        "**3. Which features are numerical, and which are nominal, and which are ordinal?**\n",
        "\n",
        "▶  1.   **Numerical features:**\n",
        "*   *Length*\n",
        "*   *Popularity*\n",
        "*  *Danceability*\n",
        "*  *Acousticness*\n",
        "*  *Energy*\n",
        "*  *Instrumentalness*\n",
        "* *Liveness*\n",
        "* *Loudness*\n",
        "* *Speechiness*\n",
        "* *Valence*\n",
        "* *Tempo*\n",
        "\n",
        "\n",
        "\n",
        "▶ 2.   **Nominal features:**\n",
        "*   *Name*\n",
        "*   *Album*\n",
        "*   *Artist*\n",
        "*   *Release Date*\n",
        "\n",
        "▶ 3.   **Ordinal features:**\n",
        "  * **NONE**: *the data set I'm using doesn't have any ordinal features, but if the popularity was measured from \"High\" to \"Low\" it would be ordinal.*"
      ],
      "metadata": {
        "id": "3OKjbGpgfadN"
      }
    },
    {
      "cell_type": "markdown",
      "source": [
        "**4. Select two numerical features** (I chose *popularity* and *acousticness*)"
      ],
      "metadata": {
        "id": "skO7rce51BYd"
      }
    },
    {
      "cell_type": "code",
      "source": [
        "sNumfeatures = ['popularity', 'acousticness']"
      ],
      "metadata": {
        "id": "PX-HdFQ-1rx-"
      },
      "execution_count": 203,
      "outputs": []
    },
    {
      "cell_type": "markdown",
      "source": [
        "**5. Show their descriptive statistics, add your interpretation on each feature** *we use the .describe as follows :*"
      ],
      "metadata": {
        "id": "W1qiVByk1d4N"
      }
    },
    {
      "cell_type": "code",
      "source": [
        "Dstats = df[sNumfeatures].describe()\n",
        "print(\"The Descriptive Statistics:\")\n",
        "print(Dstats)\n"
      ],
      "metadata": {
        "colab": {
          "base_uri": "https://localhost:8080/"
        },
        "id": "g-jyXdrtPfeC",
        "outputId": "dd94a0a0-e2ea-48e9-b435-c2f9a245c7ec"
      },
      "execution_count": 204,
      "outputs": [
        {
          "output_type": "stream",
          "name": "stdout",
          "text": [
            "The Descriptive Statistics:\n",
            "       popularity  acousticness\n",
            "count  171.000000    171.000000\n",
            "mean    61.228070      0.321634\n",
            "std     11.904548      0.334019\n",
            "min      0.000000      0.000191\n",
            "25%     58.000000      0.030450\n",
            "50%     63.000000      0.156000\n",
            "75%     67.000000      0.674000\n",
            "max     82.000000      0.971000\n"
          ]
        }
      ]
    },
    {
      "cell_type": "markdown",
      "source": [
        "\n",
        "- **Popularity:**\n",
        "  - Descriptive Statistics:\n",
        "    - Mean popularity score is approximately 61.23.\n",
        "    - The standard deviation is approximately 11.90, indicating a relatively wide spread of popularity scores around the mean.\n",
        "    - The minimum popularity score is 0, and the maximum popularity score is 82.\n",
        "    - The median (50th percentile) popularity score is 63, which is close to the mean.\n",
        "    - The interquartile range (IQR) is relatively small, suggesting that most songs have popularity scores clustered around the median.\n",
        "  \n",
        "\n",
        "- **Acousticness:**\n",
        "  - Descriptive Statistics:\n",
        "    - Mean acousticness score is approximately 0.322.\n",
        "    - The standard deviation is approximately 0.334, indicating a relatively wide spread of acousticness scores around the mean.\n",
        "    - The minimum acousticness score is 0.000191, and the maximum acousticness score is 0.971.\n",
        "    - The median (50th percentile) acousticness score is 0.156, which is lower than the mean.\n",
        "    - The interquartile range (IQR) is relatively large, suggesting variability in the acousticness scores.\n",
        "  \n"
      ],
      "metadata": {
        "id": "qJ9r1AccYBaP"
      }
    },
    {
      "cell_type": "markdown",
      "source": [
        "**6. Does they have skweness? interpret**"
      ],
      "metadata": {
        "id": "A30iVUNd2KD3"
      }
    },
    {
      "cell_type": "code",
      "source": [
        "# skewness\n",
        "selected_skewness = df[sNumfeatures].skew()\n",
        "\n",
        "print(\"\\nSkewness:\")\n",
        "print(selected_skewness)"
      ],
      "metadata": {
        "colab": {
          "base_uri": "https://localhost:8080/"
        },
        "id": "O3-jMaH-2Fze",
        "outputId": "e51cf9ba-ef04-4f63-cbc5-5acd9f645807"
      },
      "execution_count": 205,
      "outputs": [
        {
          "output_type": "stream",
          "name": "stdout",
          "text": [
            "\n",
            "Skewness:\n",
            "popularity     -2.375715\n",
            "acousticness    0.634817\n",
            "dtype: float64\n"
          ]
        }
      ]
    },
    {
      "cell_type": "markdown",
      "source": [
        "- acousticness:\n",
        "    - The skewness value is approximately 0.6348, indicating a right-skewed distribution. This suggests that there may be a higher concentration of songs with lower acousticness values compared to those with higher acousticness values."
      ],
      "metadata": {
        "id": "gz5uvZzq8_oA"
      }
    },
    {
      "cell_type": "markdown",
      "source": [
        "- Popularity\n",
        " - The skewness value is approximately -2.38, indicating a left-skewed distribution. This suggests that there are more songs with higher popularity scores and fewer songs with lower popularity scores."
      ],
      "metadata": {
        "id": "FzYAcOby8kPY"
      }
    },
    {
      "cell_type": "markdown",
      "source": [
        "**7. Select two categorical features and verify if the data is balanced between the categories of each feature**"
      ],
      "metadata": {
        "id": "RDbLlkeD2eH7"
      }
    },
    {
      "cell_type": "code",
      "source": [
        "# the 2 categorical features i chose are the album and the artist\n",
        "catFeatures = ['album', 'artist']"
      ],
      "metadata": {
        "id": "ZTgDF5zV_53A"
      },
      "execution_count": 206,
      "outputs": []
    },
    {
      "cell_type": "markdown",
      "source": [
        "to check the frequency in each category within each feature"
      ],
      "metadata": {
        "id": "CYyevEirCAhn"
      }
    },
    {
      "cell_type": "code",
      "source": [
        "\n",
        "catCount = {}\n",
        "for feature in catFeatures:\n",
        "    catCount[feature] = df[feature].value_counts()\n",
        "\n",
        "# Print frequency count of each category within each feature\n",
        "for feature, counts in catCount.items():\n",
        "    print(f\"\\nFreq count of the category in {feature}:\")\n",
        "    print(counts)\n"
      ],
      "metadata": {
        "colab": {
          "base_uri": "https://localhost:8080/"
        },
        "id": "JkB0ET3sY4yp",
        "outputId": "2e7061d5-c94b-4a6e-9066-c92f4a9d70bb"
      },
      "execution_count": 207,
      "outputs": [
        {
          "output_type": "stream",
          "name": "stdout",
          "text": [
            "\n",
            "Freq count of the category in album:\n",
            "Fearless (Taylor's Version)    26\n",
            "Speak Now (Deluxe Package)     22\n",
            "Red (Deluxe Edition)           22\n",
            "1989 (Deluxe)                  19\n",
            "Lover                          18\n",
            "folklore (deluxe version)      17\n",
            "evermore (deluxe version)      17\n",
            "Taylor Swift                   15\n",
            "reputation                     15\n",
            "Name: album, dtype: int64\n",
            "\n",
            "Freq count of the category in artist:\n",
            "Taylor Swift    171\n",
            "Name: artist, dtype: int64\n"
          ]
        }
      ]
    },
    {
      "cell_type": "markdown",
      "source": [
        "to check the balance"
      ],
      "metadata": {
        "id": "VLzsOqLbAWRu"
      }
    },
    {
      "cell_type": "code",
      "source": [
        "for feature, counts in catCount.items():\n",
        "    print(f\"\\nCheck The Balance For {feature} feature:\")\n",
        "    print(\"Balanced :)\" if counts.min() / counts.max() >= 0.8 else \"NOT Balanced :(\")\n"
      ],
      "metadata": {
        "colab": {
          "base_uri": "https://localhost:8080/"
        },
        "id": "hehPkpL7B65B",
        "outputId": "43c25907-1838-4b02-bdb9-c10de5a74c6a"
      },
      "execution_count": 208,
      "outputs": [
        {
          "output_type": "stream",
          "name": "stdout",
          "text": [
            "\n",
            "Check The Balance For album feature:\n",
            "NOT Balanced :(\n",
            "\n",
            "Check The Balance For artist feature:\n",
            "Balanced :)\n"
          ]
        }
      ]
    },
    {
      "cell_type": "markdown",
      "source": [
        "**8. Based on your intuition, select two features that you think they could be correlated. Verify your assumption using both visualization and the correlation coefficient approaches**"
      ],
      "metadata": {
        "id": "Ihq8eGmx2t5X"
      }
    },
    {
      "cell_type": "code",
      "source": [
        "# the features I chose:\n",
        "ChosenFeat = ['danceability', 'popularity']"
      ],
      "metadata": {
        "id": "6Qwr93oeDURa"
      },
      "execution_count": 209,
      "outputs": []
    },
    {
      "cell_type": "markdown",
      "source": [
        "Visualizing the relationship I assumed using the sns and plt"
      ],
      "metadata": {
        "id": "YNjPFH2fDgd-"
      }
    },
    {
      "cell_type": "code",
      "source": [
        "sns.pairplot(df[ChosenFeat])\n",
        "plt.show()"
      ],
      "metadata": {
        "colab": {
          "base_uri": "https://localhost:8080/",
          "height": 513
        },
        "id": "jaqim7Q6ZSZ0",
        "outputId": "fb7acb61-c5c2-436e-ae19-c392e27044fb"
      },
      "execution_count": 210,
      "outputs": [
        {
          "output_type": "display_data",
          "data": {
            "text/plain": [
              "<Figure size 500x500 with 6 Axes>"
            ],
            "image/png": "[encoded data removed]"
          },
          "metadata": {}
        }
      ]
    },
    {
      "cell_type": "markdown",
      "source": [
        "The Correlation Coefficient"
      ],
      "metadata": {
        "id": "jumVg_dMD_2q"
      }
    },
    {
      "cell_type": "code",
      "source": [
        "# calculating the correlation coefficient between the features\n",
        "correlation_coefficient = df[ChosenFeat].corr().iloc[0, 1]\n",
        "print(\"Correlation Coefficient between 'danceability' and 'popularity':\", correlation_coefficient)"
      ],
      "metadata": {
        "colab": {
          "base_uri": "https://localhost:8080/"
        },
        "id": "xiXU2EjoD-TN",
        "outputId": "0b3b9d01-3529-447a-e750-4ddb8294d546"
      },
      "execution_count": 211,
      "outputs": [
        {
          "output_type": "stream",
          "name": "stdout",
          "text": [
            "Correlation Coefficient between 'danceability' and 'popularity': 0.07262172735707048\n"
          ]
        }
      ]
    },
    {
      "cell_type": "markdown",
      "source": [
        "the correlation coefficient is positive, indicating a slightly positive linear relationship between 'danceability' and 'popularity'. However, the correlation is very weak."
      ],
      "metadata": {
        "id": "YuvaaKFebQy3"
      }
    },
    {
      "cell_type": "markdown",
      "source": [
        "**9. Are their features that can be used as index?**"
      ],
      "metadata": {
        "id": "Ngit6iUS21Mx"
      }
    },
    {
      "cell_type": "markdown",
      "source": [
        "checking the uniqueness for the first column"
      ],
      "metadata": {
        "id": "DeF4TU0mFMNm"
      }
    },
    {
      "cell_type": "code",
      "source": [
        "uniqINDEX = df.index.is_unique\n",
        "print(\"Is The First Column In The DataSet A Unique Index?\")\n",
        "if uniqINDEX:\n",
        "    print(\"Yes it is :)\")\n",
        "else:\n",
        "    print(\"No it isn't :(\")"
      ],
      "metadata": {
        "colab": {
          "base_uri": "https://localhost:8080/"
        },
        "id": "slmGJIbccPhc",
        "outputId": "2129ff4c-4b13-4fc5-cf68-4114b33bb412"
      },
      "execution_count": 212,
      "outputs": [
        {
          "output_type": "stream",
          "name": "stdout",
          "text": [
            "Is The First Column In The DataSet A Unique Index?\n",
            "Yes it is :)\n"
          ]
        }
      ]
    },
    {
      "cell_type": "markdown",
      "source": [
        "**As a fan who knows about every single line in this dataset i can tell that the statistics are right 😊**\n",
        "praying for a full mark🤲"
      ],
      "metadata": {
        "id": "wL1V9OgRGnW8"
      }
    }
  ]
}